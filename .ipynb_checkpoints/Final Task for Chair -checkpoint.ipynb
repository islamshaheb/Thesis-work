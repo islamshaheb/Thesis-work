{
 "cells": [
  {
   "cell_type": "code",
   "execution_count": 19,
   "id": "logical-method",
   "metadata": {},
   "outputs": [],
   "source": [
    "# importing libraries  \n",
    "import numpy as nm  \n",
    "import matplotlib.pyplot as mtp \n",
    "import matplotlib.pyplot as plt \n",
    "import pandas as pd  \n",
    "  \n",
    "#importing datasets  \n",
    "data_set= pd.read_csv('chair.csv')  "
   ]
  },
  {
   "cell_type": "code",
   "execution_count": 4,
   "id": "continent-carbon",
   "metadata": {},
   "outputs": [
    {
     "data": {
      "text/html": [
       "<div>\n",
       "<style scoped>\n",
       "    .dataframe tbody tr th:only-of-type {\n",
       "        vertical-align: middle;\n",
       "    }\n",
       "\n",
       "    .dataframe tbody tr th {\n",
       "        vertical-align: top;\n",
       "    }\n",
       "\n",
       "    .dataframe thead th {\n",
       "        text-align: right;\n",
       "    }\n",
       "</style>\n",
       "<table border=\"1\" class=\"dataframe\">\n",
       "  <thead>\n",
       "    <tr style=\"text-align: right;\">\n",
       "      <th></th>\n",
       "      <th>state</th>\n",
       "      <th>district</th>\n",
       "      <th>market</th>\n",
       "      <th>commodity</th>\n",
       "      <th>variety</th>\n",
       "      <th>arrival_date</th>\n",
       "      <th>min_price</th>\n",
       "      <th>max_price</th>\n",
       "      <th>modal_price</th>\n",
       "    </tr>\n",
       "  </thead>\n",
       "  <tbody>\n",
       "    <tr>\n",
       "      <th>0</th>\n",
       "      <td>Andhra Pradesh</td>\n",
       "      <td>Kurnool</td>\n",
       "      <td>Kurnool</td>\n",
       "      <td>chair</td>\n",
       "      <td>Local</td>\n",
       "      <td>03/01/2020</td>\n",
       "      <td>1350</td>\n",
       "      <td>4390</td>\n",
       "      <td>3100</td>\n",
       "    </tr>\n",
       "    <tr>\n",
       "      <th>1</th>\n",
       "      <td>Andhra Pradesh</td>\n",
       "      <td>Kurnool</td>\n",
       "      <td>Kurnool</td>\n",
       "      <td>chair</td>\n",
       "      <td>Local</td>\n",
       "      <td>04/01/2020</td>\n",
       "      <td>1390</td>\n",
       "      <td>4400</td>\n",
       "      <td>3200</td>\n",
       "    </tr>\n",
       "    <tr>\n",
       "      <th>2</th>\n",
       "      <td>Andhra Pradesh</td>\n",
       "      <td>Kurnool</td>\n",
       "      <td>Kurnool</td>\n",
       "      <td>chair</td>\n",
       "      <td>Local</td>\n",
       "      <td>06/01/2020</td>\n",
       "      <td>1460</td>\n",
       "      <td>5150</td>\n",
       "      <td>4310</td>\n",
       "    </tr>\n",
       "    <tr>\n",
       "      <th>3</th>\n",
       "      <td>Andhra Pradesh</td>\n",
       "      <td>Kurnool</td>\n",
       "      <td>Kurnool</td>\n",
       "      <td>chair</td>\n",
       "      <td>Local</td>\n",
       "      <td>07/01/2020</td>\n",
       "      <td>2010</td>\n",
       "      <td>5200</td>\n",
       "      <td>4200</td>\n",
       "    </tr>\n",
       "    <tr>\n",
       "      <th>4</th>\n",
       "      <td>Andhra Pradesh</td>\n",
       "      <td>Kurnool</td>\n",
       "      <td>Kurnool</td>\n",
       "      <td>chair</td>\n",
       "      <td>Local</td>\n",
       "      <td>10/01/2020</td>\n",
       "      <td>1320</td>\n",
       "      <td>4050</td>\n",
       "      <td>3300</td>\n",
       "    </tr>\n",
       "    <tr>\n",
       "      <th>5</th>\n",
       "      <td>Andhra Pradesh</td>\n",
       "      <td>Kurnool</td>\n",
       "      <td>Kurnool</td>\n",
       "      <td>chair</td>\n",
       "      <td>Local</td>\n",
       "      <td>11/01/2020</td>\n",
       "      <td>1060</td>\n",
       "      <td>3670</td>\n",
       "      <td>2870</td>\n",
       "    </tr>\n",
       "    <tr>\n",
       "      <th>6</th>\n",
       "      <td>Andhra Pradesh</td>\n",
       "      <td>Kurnool</td>\n",
       "      <td>Kurnool</td>\n",
       "      <td>chair</td>\n",
       "      <td>Local</td>\n",
       "      <td>13/01/2020</td>\n",
       "      <td>1200</td>\n",
       "      <td>3950</td>\n",
       "      <td>2850</td>\n",
       "    </tr>\n",
       "    <tr>\n",
       "      <th>7</th>\n",
       "      <td>Andhra Pradesh</td>\n",
       "      <td>Kurnool</td>\n",
       "      <td>Kurnool</td>\n",
       "      <td>chair</td>\n",
       "      <td>Local</td>\n",
       "      <td>17/01/2020</td>\n",
       "      <td>1290</td>\n",
       "      <td>4600</td>\n",
       "      <td>3580</td>\n",
       "    </tr>\n",
       "    <tr>\n",
       "      <th>8</th>\n",
       "      <td>Andhra Pradesh</td>\n",
       "      <td>Kurnool</td>\n",
       "      <td>Kurnool</td>\n",
       "      <td>chair</td>\n",
       "      <td>Local</td>\n",
       "      <td>18/01/2020</td>\n",
       "      <td>1770</td>\n",
       "      <td>4510</td>\n",
       "      <td>3330</td>\n",
       "    </tr>\n",
       "  </tbody>\n",
       "</table>\n",
       "</div>"
      ],
      "text/plain": [
       "            state district   market commodity variety arrival_date  min_price  \\\n",
       "0  Andhra Pradesh  Kurnool  Kurnool     chair   Local   03/01/2020       1350   \n",
       "1  Andhra Pradesh  Kurnool  Kurnool     chair   Local   04/01/2020       1390   \n",
       "2  Andhra Pradesh  Kurnool  Kurnool     chair   Local   06/01/2020       1460   \n",
       "3  Andhra Pradesh  Kurnool  Kurnool     chair   Local   07/01/2020       2010   \n",
       "4  Andhra Pradesh  Kurnool  Kurnool     chair   Local   10/01/2020       1320   \n",
       "5  Andhra Pradesh  Kurnool  Kurnool     chair   Local   11/01/2020       1060   \n",
       "6  Andhra Pradesh  Kurnool  Kurnool     chair   Local   13/01/2020       1200   \n",
       "7  Andhra Pradesh  Kurnool  Kurnool     chair   Local   17/01/2020       1290   \n",
       "8  Andhra Pradesh  Kurnool  Kurnool     chair   Local   18/01/2020       1770   \n",
       "\n",
       "   max_price  modal_price  \n",
       "0       4390         3100  \n",
       "1       4400         3200  \n",
       "2       5150         4310  \n",
       "3       5200         4200  \n",
       "4       4050         3300  \n",
       "5       3670         2870  \n",
       "6       3950         2850  \n",
       "7       4600         3580  \n",
       "8       4510         3330  "
      ]
     },
     "execution_count": 4,
     "metadata": {},
     "output_type": "execute_result"
    }
   ],
   "source": [
    "data_set.head(9)"
   ]
  },
  {
   "cell_type": "code",
   "execution_count": 5,
   "id": "silver-world",
   "metadata": {},
   "outputs": [],
   "source": [
    "#Extracting Independent and dependent Variable  \n",
    "x= data_set.iloc[:, [6,7]].values  \n",
    "y= data_set.iloc[:, 1].values  "
   ]
  },
  {
   "cell_type": "code",
   "execution_count": 7,
   "id": "knowing-accordance",
   "metadata": {},
   "outputs": [],
   "source": [
    "from sklearn import preprocessing\n",
    "le = preprocessing.LabelEncoder()\n",
    "temp= y\n",
    "le = preprocessing.LabelEncoder()\n",
    "le.fit(temp)\n",
    "Actual_District=list(le.classes_)\n",
    "x_temp=le.transform(temp)\n",
    "inverse = list(le.inverse_transform(x_temp))\n",
    "newarr = x_temp.reshape(len(data_set),1) #Changing row level to column level\n",
    "xx = nm.append(x, newarr, axis=1)"
   ]
  },
  {
   "cell_type": "code",
   "execution_count": 38,
   "id": "soviet-wages",
   "metadata": {},
   "outputs": [],
   "source": [
    "#Splitting the dataset into training and test set.  \n",
    "from sklearn.model_selection import train_test_split  \n",
    "x_train, x_test, y_train, y_test= train_test_split(x, x_temp, test_size= 0.25, random_state=0)  \n",
    "  \n",
    "#feature Scaling  \n",
    "from sklearn.preprocessing import StandardScaler    \n",
    "st_x= StandardScaler()    \n",
    "x_train= st_x.fit_transform(x_train)    \n",
    "x_test= st_x.transform(x_test)  \n",
    "all_accuracy=[]\n",
    "K_value = []\n",
    "for i in range(3,45,2):\n",
    "    #Fitting K-NN classifier to the training set  \n",
    "    from sklearn.neighbors import KNeighborsClassifier  \n",
    "    classifier= KNeighborsClassifier(n_neighbors=i, metric='minkowski', p=2 )  \n",
    "    classifier.fit(x_train, y_train)  \n",
    "\n",
    "    #Predicting the test set result  \n",
    "    y_pred= classifier.predict(x_test) \n",
    "\n",
    "    from sklearn.metrics import confusion_matrix  \n",
    "    cm= confusion_matrix(y_test, y_pred)  \n",
    "    def accuracy(confusion_matrix):\n",
    "        diagonal_sum = confusion_matrix.trace()\n",
    "        sum_of_all_elements = confusion_matrix.sum()\n",
    "        return diagonal_sum / sum_of_all_elements \n",
    "    accuracy = accuracy(cm)\n",
    "    accuracy\n",
    "    K_value.append(i)\n",
    "    all_accuracy.append(accuracy)\n"
   ]
  },
  {
   "cell_type": "code",
   "execution_count": 43,
   "id": "advanced-revision",
   "metadata": {},
   "outputs": [
    {
     "data": {
      "image/png": "[encoded data removed]",
      "text/plain": [
       "<Figure size 1080x576 with 1 Axes>"
      ]
     },
     "metadata": {
      "needs_background": "light"
     },
     "output_type": "display_data"
    }
   ],
   "source": [
    "fig, ax = plt.subplots()\n",
    "ax.plot(K_value,all_accuracy,color='blue',marker='o')\n",
    "ax.set_xlabel('Accuracy')\n",
    "ax.set_ylabel('K', color='black')\n",
    "ax.tick_params('y', colors='red')\n",
    "\n",
    "plt.rcParams['figure.figsize'] = [15, 8]\n",
    "plt.show()"
   ]
  },
  {
   "cell_type": "code",
   "execution_count": 16,
   "id": "referenced-profession",
   "metadata": {},
   "outputs": [
    {
     "data": {
      "text/plain": [
       "182"
      ]
     },
     "execution_count": 16,
     "metadata": {},
     "output_type": "execute_result"
    }
   ],
   "source": [
    "len(x)"
   ]
  },
  {
   "cell_type": "markdown",
   "id": "sixth-inflation",
   "metadata": {},
   "source": []
  },
  {
   "cell_type": "code",
   "execution_count": 127,
   "id": "first-pipeline",
   "metadata": {},
   "outputs": [
    {
     "data": {
      "text/plain": [
       "'Nawanshahr'"
      ]
     },
     "execution_count": 127,
     "metadata": {},
     "output_type": "execute_result"
    }
   ],
   "source": [
    "import math\n",
    "minprice=670\n",
    "maxprice=1820\n",
    "length=[]\n",
    "for i in range (0,len(x)):\n",
    "    temp=[]\n",
    "    distance = math.sqrt(((x[i][0]-minprice)**2)+((x[i][1]-maxprice)**2))\n",
    "    temp.append(distance)\n",
    "    tempnum=x_temp[i]\n",
    "    temp.append(tempnum)\n",
    "    length.append(temp)\n",
    "length.sort()\n",
    "k=3 #As we calculated that we get better result with k = 3\n",
    "answer = []\n",
    "for i in range(0,k):\n",
    "    answer.append(length[i][1])\n",
    " \n",
    "from sortedcontainers import SortedDict\n",
    "sd = SortedDict()\n",
    "for i in x_temp:\n",
    "    sd[i] = 0\n",
    "for i in answer:\n",
    "    sd[i] = sd[i]+1 \n",
    "Max_value = -584584\n",
    "for i in sd:\n",
    "    Max_value = max(Max_value,sd[i])\n",
    "    \n",
    "Actual_District[Max_value]    "
   ]
  },
  {
   "cell_type": "code",
   "execution_count": 126,
   "id": "living-confusion",
   "metadata": {},
   "outputs": [
    {
     "data": {
      "text/plain": [
       "'Nawanshahr'"
      ]
     },
     "execution_count": 126,
     "metadata": {},
     "output_type": "execute_result"
    }
   ],
   "source": []
  },
  {
   "cell_type": "code",
   "execution_count": 9,
   "id": "hired-ideal",
   "metadata": {},
   "outputs": [
    {
     "data": {
      "text/plain": [
       "20"
      ]
     },
     "execution_count": 9,
     "metadata": {},
     "output_type": "execute_result"
    }
   ],
   "source": [
    "len(data_set)"
   ]
  }
 ],
 "metadata": {
  "kernelspec": {
   "display_name": "Python 3",
   "language": "python",
   "name": "python3"
  },
  "language_info": {
   "codemirror_mode": {
    "name": "ipython",
    "version": 3
   },
   "file_extension": ".py",
   "mimetype": "text/x-python",
   "name": "python",
   "nbconvert_exporter": "python",
   "pygments_lexer": "ipython3",
   "version": "3.9.1"
  }
 },
 "nbformat": 4,
 "nbformat_minor": 5
}
