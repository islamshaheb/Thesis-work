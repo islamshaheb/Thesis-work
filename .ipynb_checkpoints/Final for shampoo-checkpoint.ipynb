{
 "cells": [
  {
   "cell_type": "code",
   "execution_count": 1,
   "id": "logical-method",
   "metadata": {},
   "outputs": [],
   "source": [
    "# importing libraries  \n",
    "import numpy as nm  \n",
    "import matplotlib.pyplot as mtp  \n",
    "import pandas as pd  \n",
    "  \n",
    "#importing datasets  \n",
    "data_set= pd.read_csv('shampoo.csv')  "
   ]
  },
  {
   "cell_type": "code",
   "execution_count": 2,
   "id": "continent-carbon",
   "metadata": {},
   "outputs": [
    {
     "data": {
      "text/html": [
       "<div>\n",
       "<style scoped>\n",
       "    .dataframe tbody tr th:only-of-type {\n",
       "        vertical-align: middle;\n",
       "    }\n",
       "\n",
       "    .dataframe tbody tr th {\n",
       "        vertical-align: top;\n",
       "    }\n",
       "\n",
       "    .dataframe thead th {\n",
       "        text-align: right;\n",
       "    }\n",
       "</style>\n",
       "<table border=\"1\" class=\"dataframe\">\n",
       "  <thead>\n",
       "    <tr style=\"text-align: right;\">\n",
       "      <th></th>\n",
       "      <th>state</th>\n",
       "      <th>district</th>\n",
       "      <th>market</th>\n",
       "      <th>commodity</th>\n",
       "      <th>variety</th>\n",
       "      <th>arrival_date</th>\n",
       "      <th>min_price</th>\n",
       "      <th>max_price</th>\n",
       "      <th>modal_price</th>\n",
       "    </tr>\n",
       "  </thead>\n",
       "  <tbody>\n",
       "    <tr>\n",
       "      <th>0</th>\n",
       "      <td>Maharashtra</td>\n",
       "      <td>Nashik</td>\n",
       "      <td>Pimpalgaon</td>\n",
       "      <td>Shampoo</td>\n",
       "      <td>Pole</td>\n",
       "      <td>02/03/2020</td>\n",
       "      <td>300</td>\n",
       "      <td>1800</td>\n",
       "      <td>1381</td>\n",
       "    </tr>\n",
       "    <tr>\n",
       "      <th>1</th>\n",
       "      <td>Maharashtra</td>\n",
       "      <td>Nashik</td>\n",
       "      <td>Pimpalgaon</td>\n",
       "      <td>Shampoo</td>\n",
       "      <td>Pole</td>\n",
       "      <td>04/03/2020</td>\n",
       "      <td>501</td>\n",
       "      <td>1851</td>\n",
       "      <td>1420</td>\n",
       "    </tr>\n",
       "    <tr>\n",
       "      <th>2</th>\n",
       "      <td>Maharashtra</td>\n",
       "      <td>Nashik</td>\n",
       "      <td>Pimpalgaon</td>\n",
       "      <td>Shampoo</td>\n",
       "      <td>Pole</td>\n",
       "      <td>05/03/2020</td>\n",
       "      <td>300</td>\n",
       "      <td>2001</td>\n",
       "      <td>1521</td>\n",
       "    </tr>\n",
       "    <tr>\n",
       "      <th>3</th>\n",
       "      <td>Maharashtra</td>\n",
       "      <td>Nashik</td>\n",
       "      <td>Pimpalgaon</td>\n",
       "      <td>Shampoo</td>\n",
       "      <td>Pole</td>\n",
       "      <td>06/03/2020</td>\n",
       "      <td>351</td>\n",
       "      <td>1966</td>\n",
       "      <td>1545</td>\n",
       "    </tr>\n",
       "    <tr>\n",
       "      <th>4</th>\n",
       "      <td>Punjab</td>\n",
       "      <td>Nawanshahr</td>\n",
       "      <td>Nawan Shahar(Subzi Mandi)</td>\n",
       "      <td>Shampoo</td>\n",
       "      <td>Other</td>\n",
       "      <td>13/02/2020</td>\n",
       "      <td>2500</td>\n",
       "      <td>3000</td>\n",
       "      <td>2800</td>\n",
       "    </tr>\n",
       "    <tr>\n",
       "      <th>5</th>\n",
       "      <td>Punjab</td>\n",
       "      <td>Nawanshahr</td>\n",
       "      <td>Nawan Shahar(Subzi Mandi)</td>\n",
       "      <td>Shampoo</td>\n",
       "      <td>Other</td>\n",
       "      <td>14/02/2020</td>\n",
       "      <td>2000</td>\n",
       "      <td>3000</td>\n",
       "      <td>2600</td>\n",
       "    </tr>\n",
       "    <tr>\n",
       "      <th>6</th>\n",
       "      <td>Punjab</td>\n",
       "      <td>Nawanshahr</td>\n",
       "      <td>Nawan Shahar(Subzi Mandi)</td>\n",
       "      <td>Shampoo</td>\n",
       "      <td>Other</td>\n",
       "      <td>15/02/2020</td>\n",
       "      <td>2000</td>\n",
       "      <td>2500</td>\n",
       "      <td>2200</td>\n",
       "    </tr>\n",
       "    <tr>\n",
       "      <th>7</th>\n",
       "      <td>Punjab</td>\n",
       "      <td>Nawanshahr</td>\n",
       "      <td>Nawan Shahar(Subzi Mandi)</td>\n",
       "      <td>Shampoo</td>\n",
       "      <td>Other</td>\n",
       "      <td>17/02/2020</td>\n",
       "      <td>2000</td>\n",
       "      <td>2500</td>\n",
       "      <td>2200</td>\n",
       "    </tr>\n",
       "    <tr>\n",
       "      <th>8</th>\n",
       "      <td>Rajasthan</td>\n",
       "      <td>Sirohi</td>\n",
       "      <td>Abu Road</td>\n",
       "      <td>Shampoo</td>\n",
       "      <td>Other</td>\n",
       "      <td>07/05/2020</td>\n",
       "      <td>975</td>\n",
       "      <td>1025</td>\n",
       "      <td>1000</td>\n",
       "    </tr>\n",
       "  </tbody>\n",
       "</table>\n",
       "</div>"
      ],
      "text/plain": [
       "         state    district                     market commodity variety  \\\n",
       "0  Maharashtra      Nashik                 Pimpalgaon   Shampoo    Pole   \n",
       "1  Maharashtra      Nashik                 Pimpalgaon   Shampoo    Pole   \n",
       "2  Maharashtra      Nashik                 Pimpalgaon   Shampoo    Pole   \n",
       "3  Maharashtra      Nashik                 Pimpalgaon   Shampoo    Pole   \n",
       "4       Punjab  Nawanshahr  Nawan Shahar(Subzi Mandi)   Shampoo   Other   \n",
       "5       Punjab  Nawanshahr  Nawan Shahar(Subzi Mandi)   Shampoo   Other   \n",
       "6       Punjab  Nawanshahr  Nawan Shahar(Subzi Mandi)   Shampoo   Other   \n",
       "7       Punjab  Nawanshahr  Nawan Shahar(Subzi Mandi)   Shampoo   Other   \n",
       "8    Rajasthan      Sirohi                   Abu Road   Shampoo   Other   \n",
       "\n",
       "  arrival_date  min_price  max_price  modal_price  \n",
       "0   02/03/2020        300       1800         1381  \n",
       "1   04/03/2020        501       1851         1420  \n",
       "2   05/03/2020        300       2001         1521  \n",
       "3   06/03/2020        351       1966         1545  \n",
       "4   13/02/2020       2500       3000         2800  \n",
       "5   14/02/2020       2000       3000         2600  \n",
       "6   15/02/2020       2000       2500         2200  \n",
       "7   17/02/2020       2000       2500         2200  \n",
       "8   07/05/2020        975       1025         1000  "
      ]
     },
     "execution_count": 2,
     "metadata": {},
     "output_type": "execute_result"
    }
   ],
   "source": [
    "data_set.head(9)"
   ]
  },
  {
   "cell_type": "code",
   "execution_count": 32,
   "id": "silver-world",
   "metadata": {},
   "outputs": [],
   "source": [
    "#Extracting Independent and dependent Variable  \n",
    "x= data_set.iloc[:, [6,7]].values  \n",
    "y= data_set.iloc[:, 1].values  "
   ]
  },
  {
   "cell_type": "code",
   "execution_count": 33,
   "id": "charged-dynamics",
   "metadata": {},
   "outputs": [
    {
     "data": {
      "text/plain": [
       "(array([[ 300, 1800],\n",
       "        [ 501, 1851],\n",
       "        [ 300, 2001],\n",
       "        [ 351, 1966],\n",
       "        [2500, 3000],\n",
       "        [2000, 3000],\n",
       "        [2000, 2500],\n",
       "        [2000, 2500],\n",
       "        [ 975, 1025],\n",
       "        [ 775,  825],\n",
       "        [ 775,  825],\n",
       "        [ 975, 1025],\n",
       "        [1070, 1150],\n",
       "        [1070, 1150],\n",
       "        [1070, 1150],\n",
       "        [1060, 1140],\n",
       "        [2900, 3100],\n",
       "        [2900, 3100],\n",
       "        [2600, 2800],\n",
       "        [2900, 3100]], dtype=int64),\n",
       " array(['Nashik', 'Nashik', 'Nashik', 'Nashik', 'Nawanshahr', 'Nawanshahr',\n",
       "        'Nawanshahr', 'Nawanshahr', 'Sirohi', 'Sirohi', 'Sirohi', 'Sirohi',\n",
       "        'Badaun', 'Badaun', 'Badaun', 'Badaun', 'Burdwan', 'Burdwan',\n",
       "        'Burdwan', 'Burdwan'], dtype=object))"
      ]
     },
     "execution_count": 33,
     "metadata": {},
     "output_type": "execute_result"
    }
   ],
   "source": [
    "x,y"
   ]
  },
  {
   "cell_type": "code",
   "execution_count": 48,
   "id": "boolean-degree",
   "metadata": {},
   "outputs": [],
   "source": [
    "from sklearn import preprocessing\n",
    "le = preprocessing.LabelEncoder()\n",
    "temp= y\n",
    "le = preprocessing.LabelEncoder()\n",
    "le.fit(temp)\n",
    "Actual_District=list(le.classes_)\n",
    "x_temp=le.transform(temp)\n",
    "inverse = list(le.inverse_transform(x_temp))\n",
    "newarr = x_temp.reshape(len(data_set),1) #Changing row level to column level\n",
    "xx = nm.append(x, newarr, axis=1)"
   ]
  },
  {
   "cell_type": "code",
   "execution_count": 56,
   "id": "vulnerable-manner",
   "metadata": {},
   "outputs": [
    {
     "data": {
      "text/plain": [
       "array([[2],\n",
       "       [2],\n",
       "       [2],\n",
       "       [2],\n",
       "       [3],\n",
       "       [3],\n",
       "       [3],\n",
       "       [3],\n",
       "       [4],\n",
       "       [4],\n",
       "       [4],\n",
       "       [4],\n",
       "       [0],\n",
       "       [0],\n",
       "       [0],\n",
       "       [0],\n",
       "       [1],\n",
       "       [1],\n",
       "       [1],\n",
       "       [1]])"
      ]
     },
     "execution_count": 56,
     "metadata": {},
     "output_type": "execute_result"
    }
   ],
   "source": [
    "y"
   ]
  },
  {
   "cell_type": "markdown",
   "id": "prepared-business",
   "metadata": {},
   "source": []
  },
  {
   "cell_type": "code",
   "execution_count": 5,
   "id": "first-pipeline",
   "metadata": {},
   "outputs": [],
   "source": [
    "import math\n",
    "Age=36\n",
    "Salary=36600\n",
    "length=[]\n",
    "for i in range (0,len(x)):\n",
    "    temp=[]\n",
    "    distance = math.sqrt(((x[i][0]-Age)**2)+((x[i][1]-Salary)**2))\n",
    "    temp.append(distance)\n",
    "    temp.append(y[i])\n",
    "    length.append(temp)"
   ]
  },
  {
   "cell_type": "code",
   "execution_count": 12,
   "id": "bridal-calgary",
   "metadata": {},
   "outputs": [],
   "source": [
    "length.sort()"
   ]
  },
  {
   "cell_type": "code",
   "execution_count": 13,
   "id": "living-confusion",
   "metadata": {},
   "outputs": [
    {
     "data": {
      "text/plain": [
       "[[3600.01680551633, 0],\n",
       " [6400.0078124952315, 0],\n",
       " [7600.009473678306, 1],\n",
       " [8600.005813951524, 1],\n",
       " [10600.00382075403, 1],\n",
       " [11600.005215516068, 1],\n",
       " [12400.004879031298, 1],\n",
       " [14600.00277397234, 1],\n",
       " [15400.003246752905, 0],\n",
       " [16600.000030120482, 0],\n",
       " [17600.00821022536, 0],\n",
       " [18600.00043010752, 0],\n",
       " [20400.00198529402, 0],\n",
       " [21400.00189252328, 0],\n",
       " [28400.000017605635, 0],\n",
       " [39400.00366751252, 0],\n",
       " [43400.00056451612, 0],\n",
       " [43400.00115207372, 0],\n",
       " [47400.00085443037, 0],\n",
       " [49400.00259109305, 0],\n",
       " [113400.00007054674, 1]]"
      ]
     },
     "execution_count": 13,
     "metadata": {},
     "output_type": "execute_result"
    }
   ],
   "source": [
    "length"
   ]
  },
  {
   "cell_type": "code",
   "execution_count": 14,
   "id": "formed-bride",
   "metadata": {},
   "outputs": [
    {
     "name": "stdout",
     "output_type": "stream",
     "text": [
      "0\n",
      "0\n",
      "1\n",
      "Purchase = 1\n",
      "Not purchase = 2\n"
     ]
    }
   ],
   "source": [
    "k = 3\n",
    "purchase=0\n",
    "not_purchase=0\n",
    "for i in range (0,k):\n",
    "    x=length[i][1]\n",
    "    print(x)\n",
    "    if x==1:\n",
    "        purchase=purchase+1\n",
    "    else:\n",
    "        not_purchase = not_purchase+1    \n",
    "print('Purchase =',purchase)\n",
    "print('Not purchase =',not_purchase)"
   ]
  },
  {
   "cell_type": "code",
   "execution_count": 9,
   "id": "hired-ideal",
   "metadata": {},
   "outputs": [
    {
     "data": {
      "text/plain": [
       "20"
      ]
     },
     "execution_count": 9,
     "metadata": {},
     "output_type": "execute_result"
    }
   ],
   "source": [
    "len(data_set)"
   ]
  },
  {
   "cell_type": "code",
   "execution_count": 74,
   "id": "palestinian-dutch",
   "metadata": {},
   "outputs": [
    {
     "name": "stderr",
     "output_type": "stream",
     "text": [
      "c:\\python3\\lib\\site-packages\\sklearn\\neighbors\\_classification.py:179: DataConversionWarning: A column-vector y was passed when a 1d array was expected. Please change the shape of y to (n_samples,), for example using ravel().\n",
      "  return self._fit(X, y)\n"
     ]
    },
    {
     "data": {
      "text/plain": [
       "0.1"
      ]
     },
     "execution_count": 74,
     "metadata": {},
     "output_type": "execute_result"
    }
   ],
   "source": [
    "#Splitting the dataset into training and test set.  \n",
    "from sklearn.model_selection import train_test_split  \n",
    "x_train, x_test, y_train, y_test= train_test_split(x, y, test_size= 0.75, random_state=0)  \n",
    "  \n",
    "#feature Scaling  \n",
    "from sklearn.preprocessing import StandardScaler    \n",
    "st_x= StandardScaler()    \n",
    "x_train= st_x.fit_transform(x_train)    \n",
    "x_test= st_x.transform(x_test)  \n",
    "\n",
    "#Fitting K-NN classifier to the training set  \n",
    "from sklearn.neighbors import KNeighborsClassifier  \n",
    "classifier= KNeighborsClassifier(n_neighbors=7, metric='minkowski', p=2 )  \n",
    "classifier.fit(x_train, y_train)  \n",
    "\n",
    "#Predicting the test set result  \n",
    "y_pred= classifier.predict(x_test) \n",
    "\n",
    "from sklearn.metrics import confusion_matrix  \n",
    "cm= confusion_matrix(y_test, y_pred)  \n",
    "def accuracy(confusion_matrix):\n",
    "    diagonal_sum = confusion_matrix.trace()\n",
    "    sum_of_all_elements = confusion_matrix.sum()\n",
    "    return diagonal_sum / sum_of_all_elements \n",
    "accuracy(cm)\n"
   ]
  },
  {
   "cell_type": "code",
   "execution_count": null,
   "id": "little-azerbaijan",
   "metadata": {},
   "outputs": [],
   "source": []
  },
  {
   "cell_type": "code",
   "execution_count": 64,
   "id": "entertaining-recognition",
   "metadata": {},
   "outputs": [
    {
     "data": {
      "text/plain": [
       "0.8"
      ]
     },
     "execution_count": 64,
     "metadata": {},
     "output_type": "execute_result"
    }
   ],
   "source": []
  }
 ],
 "metadata": {
  "kernelspec": {
   "display_name": "Python 3",
   "language": "python",
   "name": "python3"
  },
  "language_info": {
   "codemirror_mode": {
    "name": "ipython",
    "version": 3
   },
   "file_extension": ".py",
   "mimetype": "text/x-python",
   "name": "python",
   "nbconvert_exporter": "python",
   "pygments_lexer": "ipython3",
   "version": "3.9.1"
  }
 },
 "nbformat": 4,
 "nbformat_minor": 5
}
