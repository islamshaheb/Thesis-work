{
 "cells": [
  {
   "cell_type": "code",
   "execution_count": 14,
   "id": "continent-carbon",
   "metadata": {},
   "outputs": [
    {
     "data": {
      "text/plain": [
       "8"
      ]
     },
     "execution_count": 14,
     "metadata": {},
     "output_type": "execute_result"
    }
   ],
   "source": [
    "len(x_test)"
   ]
  },
  {
   "cell_type": "code",
   "execution_count": 43,
   "id": "silver-world",
   "metadata": {},
   "outputs": [],
   "source": [
    "# importing libraries  \n",
    "import numpy as nm  \n",
    "import matplotlib.pyplot as mtp  \n",
    "import matplotlib.pyplot as plt\n",
    "import pandas as pd  \n",
    "  \n",
    "#importing datasets  \n",
    "data_set= pd.read_csv('purchase.csv')  \n",
    "  \n",
    "#Extracting Independent and dependent Variable  \n",
    "x= data_set.iloc[:, [2,3]].values  \n",
    "y= data_set.iloc[:, 4].values  \n",
    "  \n",
    "# Splitting the dataset into training and test set.  \n",
    "from sklearn.model_selection import train_test_split  \n",
    "x_train, x_test, y_train, y_test= train_test_split(x, y, test_size= 0.35, random_state=0)  \n",
    "  \n",
    "#feature Scaling  \n",
    "from sklearn.preprocessing import StandardScaler    \n",
    "st_x= StandardScaler()    \n",
    "x_train= st_x.fit_transform(x_train)    \n",
    "x_test= st_x.transform(x_test)\n",
    "all_accuracy=[]\n",
    "K_value = []\n",
    "for i in range(1,11,2):\n",
    "    #Fitting K-NN classifier to the training set  \n",
    "    from sklearn.neighbors import KNeighborsClassifier  \n",
    "    classifier= KNeighborsClassifier(n_neighbors=i, metric='minkowski', p=2 )  \n",
    "    classifier.fit(x_train, y_train)  \n",
    "    #Predicting the test set result  \n",
    "    y_pred= classifier.predict(x_test)  \n",
    "    #Creating the Confusion matrix  \n",
    "    from sklearn.metrics import confusion_matrix  \n",
    "    cm= confusion_matrix(y_test, y_pred)  \n",
    "    def accuracy(confusion_matrix):\n",
    "        diagonal_sum = confusion_matrix.trace()\n",
    "        sum_of_all_elements = confusion_matrix.sum()\n",
    "        return diagonal_sum / sum_of_all_elements \n",
    "    accuracy = accuracy(cm)\n",
    "    accuracy\n",
    "    K_value.append(i)\n",
    "    all_accuracy.append(accuracy)"
   ]
  },
  {
   "cell_type": "code",
   "execution_count": 45,
   "id": "charged-dynamics",
   "metadata": {
    "scrolled": false
   },
   "outputs": [
    {
     "data": {
      "image/png": "[encoded data removed]",
      "text/plain": [
       "<Figure size 1080x576 with 1 Axes>"
      ]
     },
     "metadata": {
      "needs_background": "light"
     },
     "output_type": "display_data"
    }
   ],
   "source": [
    "fig, ax = plt.subplots()\n",
    "ax.plot(K_value,all_accuracy,color='blue',marker='o')\n",
    "ax.set_xlabel('Accuracy')\n",
    "ax.set_ylabel('K', color='black')\n",
    "ax.tick_params('y', colors='red')\n",
    "plt.rcParams['figure.figsize'] = [15, 8]\n",
    "plt.show()"
   ]
  },
  {
   "cell_type": "code",
   "execution_count": 10,
   "id": "first-pipeline",
   "metadata": {},
   "outputs": [],
   "source": [
    "import math\n",
    "Age=36\n",
    "Salary=36600\n",
    "length=[]\n",
    "for i in range (0,len(x)):\n",
    "    temp=[]\n",
    "    distance = math.sqrt(((x[i][0]-Age)**2)+((x[i][1]-Salary)**2))\n",
    "    temp.append(distance)\n",
    "    temp.append(y[i])\n",
    "    length.append(temp)"
   ]
  },
  {
   "cell_type": "code",
   "execution_count": 12,
   "id": "bridal-calgary",
   "metadata": {},
   "outputs": [],
   "source": [
    "length.sort()"
   ]
  },
  {
   "cell_type": "code",
   "execution_count": 13,
   "id": "living-confusion",
   "metadata": {},
   "outputs": [
    {
     "data": {
      "text/plain": [
       "[[3600.01680551633, 0],\n",
       " [6400.0078124952315, 0],\n",
       " [7600.009473678306, 1],\n",
       " [8600.005813951524, 1],\n",
       " [10600.00382075403, 1],\n",
       " [11600.005215516068, 1],\n",
       " [12400.004879031298, 1],\n",
       " [14600.00277397234, 1],\n",
       " [15400.003246752905, 0],\n",
       " [16600.000030120482, 0],\n",
       " [17600.00821022536, 0],\n",
       " [18600.00043010752, 0],\n",
       " [20400.00198529402, 0],\n",
       " [21400.00189252328, 0],\n",
       " [28400.000017605635, 0],\n",
       " [39400.00366751252, 0],\n",
       " [43400.00056451612, 0],\n",
       " [43400.00115207372, 0],\n",
       " [47400.00085443037, 0],\n",
       " [49400.00259109305, 0],\n",
       " [113400.00007054674, 1]]"
      ]
     },
     "execution_count": 13,
     "metadata": {},
     "output_type": "execute_result"
    }
   ],
   "source": [
    "length"
   ]
  },
  {
   "cell_type": "code",
   "execution_count": 14,
   "id": "formed-bride",
   "metadata": {},
   "outputs": [
    {
     "name": "stdout",
     "output_type": "stream",
     "text": [
      "0\n",
      "0\n",
      "1\n",
      "Purchase = 1\n",
      "Not purchase = 2\n"
     ]
    }
   ],
   "source": [
    "k = 3\n",
    "purchase=0\n",
    "not_purchase=0\n",
    "for i in range (0,k):\n",
    "    x=length[i][1]\n",
    "    print(x)\n",
    "    if x==1:\n",
    "        purchase=purchase+1\n",
    "    else:\n",
    "        not_purchase = not_purchase+1    \n",
    "print('Purchase =',purchase)\n",
    "print('Not purchase =',not_purchase)"
   ]
  },
  {
   "cell_type": "code",
   "execution_count": null,
   "id": "hired-ideal",
   "metadata": {},
   "outputs": [],
   "source": []
  }
 ],
 "metadata": {
  "kernelspec": {
   "display_name": "Python 3",
   "language": "python",
   "name": "python3"
  },
  "language_info": {
   "codemirror_mode": {
    "name": "ipython",
    "version": 3
   },
   "file_extension": ".py",
   "mimetype": "text/x-python",
   "name": "python",
   "nbconvert_exporter": "python",
   "pygments_lexer": "ipython3",
   "version": "3.9.1"
  }
 },
 "nbformat": 4,
 "nbformat_minor": 5
}
